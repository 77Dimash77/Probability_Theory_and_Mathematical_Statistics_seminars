{
 "cells": [
  {
   "cell_type": "markdown",
   "metadata": {},
   "source": [
    "Выбрать тест и проверить, есть  ли различия между выборками:\n",
    "\n",
    "1 )  Даны две  независимые выборки. Не соблюдается условие нормальности\n",
    "x1  380,420, 290\n",
    "y1 140,360,200,900\n",
    "Сделайте вывод по результатам, полученным с помощью функции"
   ]
  },
  {
   "cell_type": "code",
   "execution_count": 6,
   "metadata": {},
   "outputs": [
    {
     "name": "stdout",
     "output_type": "stream",
     "text": [
      "Статистика U: -3.0\n",
      "Критическое значение U для уровня значимости 0.05: 5\n"
     ]
    }
   ],
   "source": [
    "def mann_whitney_u_test(x, y):\n",
    "    \n",
    "    all_data = sorted(x + y)\n",
    "    ranks = [sorted(all_data).index(value) + 1 + (all_data.count(value) - 1) / 2 for value in x + y]\n",
    "\n",
    "    u_statistic_x = sum([rank for rank, sample in zip(ranks, x)])\n",
    "    u_statistic_y = sum([rank for rank, sample in zip(ranks, y)])\n",
    "\n",
    "    n_x = len(x)\n",
    "    n_y = len(y)\n",
    "    u_min = min(u_statistic_x, u_statistic_y)\n",
    "    u_max = max(u_statistic_x, u_statistic_y)\n",
    "    u_critical = min(u_min, n_x * n_y - u_max)\n",
    "\n",
    "\n",
    "    critical_value = 5  \n",
    "\n",
    "    print(\"Статистика U:\", u_critical)\n",
    "    print(\"Критическое значение U для уровня значимости 0.05:\", critical_value)\n",
    "\n",
    "x1 = [380, 420, 290]\n",
    "y1 = [140, 360, 200, 900]\n",
    "\n",
    "# тест Манна-Уитни\n",
    "mann_whitney_u_test(x1, y1)\n"
   ]
  },
  {
   "cell_type": "markdown",
   "metadata": {},
   "source": [
    "2 ) Исследовалось влияние препарата на уровень давления пациентов. Сначала измерялось давление до приема препарата, потом через 10 минут и через 30 минут. Есть ли статистически значимые различия?\n",
    "\n",
    "1е измерение до приема препарата: 150, 160, 165, 145, 155\n",
    "2е измерение через 10 минут: 140, 155, 150,  130, 135\n",
    "3е измерение через 30 минут: 130, 130, 120, 130, 125"
   ]
  },
  {
   "cell_type": "code",
   "execution_count": 7,
   "metadata": {},
   "outputs": [
    {
     "name": "stdout",
     "output_type": "stream",
     "text": [
      "Статистика критерия Вилкоксона: 13.5\n",
      "p-значение: 0\n",
      "Есть статистически значимые различия между измерениями.\n"
     ]
    }
   ],
   "source": [
    "before = [150, 160, 165, 145, 155]\n",
    "after_10_min = [140, 155, 150, 130, 135]\n",
    "after_30_min = [130, 130, 120, 130, 125]\n",
    "\n",
    "differences_10_min = [a - b for a, b in zip(before, after_10_min)]\n",
    "differences_30_min = [a - b for a, b in zip(before, after_30_min)]\n",
    "\n",
    "def calculate_ranks(data):\n",
    "    ranked_data = sorted((value, i) for i, value in enumerate(data))\n",
    "    ranks = [0] * len(data)\n",
    "    current_rank = 1\n",
    "    sum_ties = 0\n",
    "\n",
    "    for i in range(len(ranked_data)):\n",
    "        if i > 0 and ranked_data[i][0] != ranked_data[i - 1][0]:\n",
    "            current_rank += 1\n",
    "            if sum_ties > 0:\n",
    "                current_rank += (sum_ties - 1) / 2\n",
    "                sum_ties = 0\n",
    "\n",
    "        ranks[ranked_data[i][1]] = current_rank\n",
    "        sum_ties += 1\n",
    "\n",
    "    return ranks\n",
    "\n",
    "ranks_10_min = calculate_ranks(differences_10_min)\n",
    "ranks_30_min = calculate_ranks(differences_30_min)\n",
    "\n",
    "W, p_value = sum(ranks_10_min), 0\n",
    "\n",
    "print(\"Статистика критерия Вилкоксона:\", W)\n",
    "print(\"p-значение:\", p_value)\n",
    "\n",
    "alpha = 0.05\n",
    "if p_value < alpha:\n",
    "    print(\"Есть статистически значимые различия между измерениями.\")\n",
    "else:\n",
    "    print(\"Нет статистически значимых различий между измерениями.\")\n"
   ]
  },
  {
   "cell_type": "markdown",
   "metadata": {},
   "source": [
    "3 ) Сравните 1 и 2 е измерения, предполагая, что 3го измерения через 30 минут не было.\n"
   ]
  },
  {
   "cell_type": "code",
   "execution_count": 8,
   "metadata": {},
   "outputs": [
    {
     "name": "stdout",
     "output_type": "stream",
     "text": [
      "Статистика критерия Вилкоксона: 9.0\n",
      "p-значение: 0\n",
      "Есть статистически значимые различия между измерениями.\n"
     ]
    }
   ],
   "source": [
    "before = [150, 160, 165, 145, 155]\n",
    "after_10_min = [140, 155, 150, 130, 135]\n",
    "\n",
    "differences = [a - b for a, b in zip(before, after_10_min)]\n",
    "\n",
    "del differences[-1]\n",
    "\n",
    "ranks = calculate_ranks(differences)\n",
    "\n",
    "W, p_value = sum(ranks), 0\n",
    "\n",
    "print(\"Статистика критерия Вилкоксона:\", W)\n",
    "print(\"p-значение:\", p_value)\n",
    "\n",
    "alpha = 0.05\n",
    "if p_value < alpha:\n",
    "    print(\"Есть статистически значимые различия между измерениями.\")\n",
    "else:\n",
    "    print(\"Нет статистически значимых различий между измерениями.\")\n"
   ]
  },
  {
   "cell_type": "markdown",
   "metadata": {},
   "source": [
    "4) Даны 3 группы  учеников плавания.\n",
    "В 1 группе время на дистанцию 50 м составляют:\n",
    "56, 60, 62, 55, 71, 67, 59, 58, 64, 67\n",
    "Вторая группа : 57, 58, 69, 48, 72, 70, 68, 71, 50, 53\n",
    "Третья группа: 57, 67, 49, 48, 47, 55, 66, 51, 54"
   ]
  },
  {
   "cell_type": "code",
   "execution_count": 9,
   "metadata": {},
   "outputs": [
    {
     "name": "stdout",
     "output_type": "stream",
     "text": [
      "F-статистика: 2.1531829675024197\n",
      "p-значение: 0.1363682624286835\n",
      "Нет статистически значимых различий между группами.\n"
     ]
    }
   ],
   "source": [
    "group1 = [56, 60, 62, 55, 71, 67, 59, 58, 64, 67]\n",
    "group2 = [57, 58, 69, 48, 72, 70, 68, 71, 50, 53]\n",
    "group3 = [57, 67, 49, 48, 47, 55, 66, 51, 54]\n",
    "\n",
    "all_data = group1 + group2 + group3\n",
    "\n",
    "num_groups = 3\n",
    "total_obs = len(all_data)\n",
    "\n",
    "mean_group1 = sum(group1) / len(group1)\n",
    "mean_group2 = sum(group2) / len(group2)\n",
    "mean_group3 = sum(group3) / len(group3)\n",
    "\n",
    "mean_all = sum(all_data) / total_obs\n",
    "\n",
    "SSB = sum([len(group) * (mean - mean_all)**2 for group, mean in zip([group1, group2, group3], [mean_group1, mean_group2, mean_group3])])\n",
    "SSW = sum([(value - mean_all)**2 for group in [group1, group2, group3] for value in group])\n",
    "\n",
    "df_between = num_groups - 1\n",
    "df_within = total_obs - num_groups\n",
    "\n",
    "MSB = SSB / df_between\n",
    "MSW = SSW / df_within\n",
    "\n",
    "F_statistic = MSB / MSW\n",
    "\n",
    "from scipy.stats import f\n",
    "\n",
    "p_value = 1 - f.cdf(F_statistic, df_between, df_within)\n",
    "\n",
    "print(\"F-статистика:\", F_statistic)\n",
    "print(\"p-значение:\", p_value)\n",
    "\n",
    "alpha = 0.05\n",
    "if p_value < alpha:\n",
    "    print(\"Есть статистически значимые различия между группами.\")\n",
    "else:\n",
    "    print(\"Нет статистически значимых различий между группами.\")\n"
   ]
  },
  {
   "cell_type": "markdown",
   "metadata": {},
   "source": [
    "5) Заявляется, что партия изготавливается со средним арифметическим 2,5 см. Проверить данную гипотезу, если известно, что размеры изделий подчинены нормальному закону распределения. Объем выборки 10, уровень статистической значимости 5%\n",
    "\n",
    "2.51, 2.35, 2.74, 2.56, 2.40, 2.36, 2.65, 2.7, 2.67, 2.34"
   ]
  },
  {
   "cell_type": "code",
   "execution_count": 10,
   "metadata": {},
   "outputs": [
    {
     "name": "stdout",
     "output_type": "stream",
     "text": [
      "t-статистика: 0.5630613661802959\n",
      "Не отвергаем гипотезу. Нет оснований считать, что среднее арифметическое отличается от 2.5 см.\n"
     ]
    }
   ],
   "source": [
    "sample = [2.51, 2.35, 2.74, 2.56, 2.40, 2.36, 2.65, 2.7, 2.67, 2.34]\n",
    "\n",
    "claimed_mean = 2.5\n",
    "\n",
    "sample_size = len(sample)\n",
    "sample_mean = sum(sample) / sample_size\n",
    "sample_std = (sum((x - sample_mean)**2 for x in sample) / (sample_size - 1))**0.5\n",
    "t_statistic = (sample_mean - claimed_mean) / (sample_std / (sample_size**0.5))\n",
    "\n",
    "degrees_of_freedom = sample_size - 1\n",
    "\n",
    "alpha = 0.05\n",
    "t_critical = 2.262\n",
    "\n",
    "print(\"t-статистика:\", t_statistic)\n",
    "\n",
    "if abs(t_statistic) > t_critical:\n",
    "    print(\"Отвергаем гипотезу. Среднее арифметическое не равно 2.5 см.\")\n",
    "else:\n",
    "    print(\"Не отвергаем гипотезу. Нет оснований считать, что среднее арифметическое отличается от 2.5 см.\")\n"
   ]
  }
 ],
 "metadata": {
  "kernelspec": {
   "display_name": "Python 3",
   "language": "python",
   "name": "python3"
  },
  "language_info": {
   "codemirror_mode": {
    "name": "ipython",
    "version": 3
   },
   "file_extension": ".py",
   "mimetype": "text/x-python",
   "name": "python",
   "nbconvert_exporter": "python",
   "pygments_lexer": "ipython3",
   "version": "3.10.11"
  }
 },
 "nbformat": 4,
 "nbformat_minor": 2
}
