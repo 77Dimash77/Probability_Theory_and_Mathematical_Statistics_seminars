{
 "cells": [
  {
   "cell_type": "markdown",
   "metadata": {},
   "source": []
  },
  {
   "cell_type": "code",
   "execution_count": 1,
   "metadata": {},
   "outputs": [],
   "source": [
    "import numpy as np\n",
    "from math import factorial as fl\n",
    "\n",
    "# сочетания\n",
    "def combinations(k, n):\n",
    "    return fl(n) / (fl(k) * fl(n - k))"
   ]
  },
  {
   "cell_type": "markdown",
   "metadata": {},
   "source": [
    "### 1"
   ]
  },
  {
   "cell_type": "markdown",
   "metadata": {},
   "source": [
    "Даны значения зарплат из выборки выпускников: 100, 80, 75, 77, 89, 33, 45, 25, 65, 17, 30, 24, 57, 55, 70, 75, 65, 84, 90, 150. Посчитать (желательно без использования статистических методов наподобие std, var, mean):"
   ]
  },
  {
   "cell_type": "code",
   "execution_count": 2,
   "metadata": {},
   "outputs": [],
   "source": [
    "salaries = np.array([100, 80, 75, 77, 89, 33, 45, 25, 65, 17, 30, 24, 57, 55, 70, 75, 65, 84, 90, 150])"
   ]
  },
  {
   "cell_type": "markdown",
   "metadata": {},
   "source": []
  },
  {
   "cell_type": "markdown",
   "metadata": {},
   "source": [
    "Cреднее арифметическое"
   ]
  },
  {
   "cell_type": "code",
   "execution_count": 3,
   "metadata": {},
   "outputs": [],
   "source": [
    "salaries_mean = salaries.sum() / salaries.size"
   ]
  },
  {
   "cell_type": "markdown",
   "metadata": {},
   "source": [
    "Cреднее квадратичное отклонение"
   ]
  },
  {
   "cell_type": "code",
   "execution_count": 4,
   "metadata": {},
   "outputs": [
    {
     "data": {
      "text/plain": [
       "30.823854398825596"
      ]
     },
     "execution_count": 4,
     "metadata": {},
     "output_type": "execute_result"
    }
   ],
   "source": [
    "(np.sum((salaries - salaries_mean)**2) / salaries.size)**0.5"
   ]
  },
  {
   "cell_type": "markdown",
   "metadata": {},
   "source": [
    "Cмещенную дисперсию"
   ]
  },
  {
   "cell_type": "code",
   "execution_count": 5,
   "metadata": {},
   "outputs": [
    {
     "data": {
      "text/plain": [
       "950.11"
      ]
     },
     "execution_count": 5,
     "metadata": {},
     "output_type": "execute_result"
    }
   ],
   "source": [
    "np.sum((salaries - salaries_mean)**2) / salaries.size"
   ]
  },
  {
   "cell_type": "markdown",
   "metadata": {},
   "source": [
    "Несмещенную дисперсию"
   ]
  },
  {
   "cell_type": "code",
   "execution_count": 6,
   "metadata": {},
   "outputs": [
    {
     "data": {
      "text/plain": [
       "1000.1157894736842"
      ]
     },
     "execution_count": 6,
     "metadata": {},
     "output_type": "execute_result"
    }
   ],
   "source": [
    "np.sum((salaries - salaries_mean)**2) / (salaries.size - 1)"
   ]
  },
  {
   "cell_type": "markdown",
   "metadata": {},
   "source": [
    "### 2"
   ]
  },
  {
   "cell_type": "markdown",
   "metadata": {},
   "source": [
    "В первом ящике находится 8 мячей, из которых 5 - белые. Во втором ящике - 12 мячей, из которых 5 белых. Из первого ящика вытаскивают случайным образом два мяча, из второго - 4. Какова вероятность того, что 3 мяча белые?"
   ]
  },
  {
   "cell_type": "code",
   "execution_count": 15,
   "metadata": {},
   "outputs": [
    {
     "name": "stdout",
     "output_type": "stream",
     "text": [
      "Вероятность того, что 3 мяча белые: 0.0338\n"
     ]
    }
   ],
   "source": [
    "from math import comb\n",
    "\n",
    "# Данные по первому ящику\n",
    "n1 = 8\n",
    "k1 = 5\n",
    "\n",
    "# Данные по второму ящику\n",
    "n2 = 12\n",
    "k2 = 5\n",
    "\n",
    "# Общее количество вытаскиваемых мячей\n",
    "n = 6  # 2 из первого ящика и 4 из второго\n",
    "\n",
    "# Количество белых мячей, которые мы хотим вытащить\n",
    "k = 3\n",
    "\n",
    "# Вероятность успеха в каждом ящике\n",
    "p1 = k1 / n1\n",
    "p2 = k2 / n2\n",
    "\n",
    "# Вероятность того, что из первого ящика вытаскивают 2 белых мяча\n",
    "prob_from_box1 = comb(k1, 2) / comb(n1, 2)\n",
    "\n",
    "# Вероятность того, что из второго ящика вытаскивают 2 белых мяча\n",
    "prob_from_box2 = comb(k2, 2) / comb(n2, 2)\n",
    "\n",
    "# Вероятность того, что из второго ящика вытаскивают 2 белых мяча и из первого - 1 белый мяч\n",
    "prob = prob_from_box1 * (comb(k2, 2) / comb(n2, 2)) * (comb(k1, 1) / comb(n1, 1))\n",
    "\n",
    "print(f\"Вероятность того, что 3 мяча белые: {prob:.4f}\")"
   ]
  },
  {
   "cell_type": "markdown",
   "metadata": {},
   "source": [
    "### 3"
   ]
  },
  {
   "cell_type": "markdown",
   "metadata": {},
   "source": [
    "На соревновании по биатлону один из трех спортсменов стреляет и попадает в мишень. Вероятность попадания для первого спортсмена равна 0.9, для второго — 0.8, для третьего — 0.6. Найти вероятность того, что выстрел произведен:"
   ]
  },
  {
   "cell_type": "code",
   "execution_count": 7,
   "metadata": {},
   "outputs": [
    {
     "data": {
      "text/plain": [
       "0.7666666666666666"
      ]
     },
     "execution_count": 7,
     "metadata": {},
     "output_type": "execute_result"
    }
   ],
   "source": [
    "A = 1/3 * 0.9 + 1/3 * 0.8 + 1/3 * 0.6\n",
    "A"
   ]
  },
  {
   "cell_type": "markdown",
   "metadata": {},
   "source": [
    "a). первым спортсменом"
   ]
  },
  {
   "cell_type": "code",
   "execution_count": 8,
   "metadata": {},
   "outputs": [
    {
     "data": {
      "text/plain": [
       "0.391304347826087"
      ]
     },
     "execution_count": 8,
     "metadata": {},
     "output_type": "execute_result"
    }
   ],
   "source": [
    "(1/3 * 0.9) / A"
   ]
  },
  {
   "cell_type": "markdown",
   "metadata": {},
   "source": [
    "б). вторым спортсменом"
   ]
  },
  {
   "cell_type": "code",
   "execution_count": 9,
   "metadata": {},
   "outputs": [
    {
     "data": {
      "text/plain": [
       "0.3478260869565218"
      ]
     },
     "execution_count": 9,
     "metadata": {},
     "output_type": "execute_result"
    }
   ],
   "source": [
    "(1/3 * 0.8) / A"
   ]
  },
  {
   "cell_type": "markdown",
   "metadata": {},
   "source": [
    "в). третьим спортсменом"
   ]
  },
  {
   "cell_type": "code",
   "execution_count": 10,
   "metadata": {},
   "outputs": [
    {
     "data": {
      "text/plain": [
       "0.3478260869565218"
      ]
     },
     "execution_count": 10,
     "metadata": {},
     "output_type": "execute_result"
    }
   ],
   "source": [
    "(1/3 * 0.8) / A"
   ]
  },
  {
   "cell_type": "markdown",
   "metadata": {},
   "source": [
    "### 4"
   ]
  },
  {
   "cell_type": "markdown",
   "metadata": {},
   "source": [
    "В университет на факультеты A и B поступило равное количество студентов, а на факультет C студентов поступило столько же, сколько на A и B вместе. Вероятность того, что студент факультета A сдаст первую сессию, равна 0.8. Для студента факультета B эта вероятность равна 0.7, а для студента факультета C - 0.9. Студент сдал первую сессию. Какова вероятность, что он учится: a). на факультете A б). на факультете B в). на факультете C?"
   ]
  },
  {
   "cell_type": "code",
   "execution_count": 11,
   "metadata": {},
   "outputs": [
    {
     "data": {
      "text/plain": [
       "0.825"
      ]
     },
     "execution_count": 11,
     "metadata": {},
     "output_type": "execute_result"
    }
   ],
   "source": [
    "A = 1/4 * 0.8 + 1/4 * 0.7 + 1/2 * 0.9\n",
    "A"
   ]
  },
  {
   "cell_type": "markdown",
   "metadata": {},
   "source": [
    "a). на факультете A"
   ]
  },
  {
   "cell_type": "code",
   "execution_count": 12,
   "metadata": {},
   "outputs": [
    {
     "data": {
      "text/plain": [
       "0.24242424242424246"
      ]
     },
     "execution_count": 12,
     "metadata": {},
     "output_type": "execute_result"
    }
   ],
   "source": [
    "(1/4 * 0.8) / A"
   ]
  },
  {
   "cell_type": "markdown",
   "metadata": {},
   "source": [
    "б). на факультете B"
   ]
  },
  {
   "cell_type": "code",
   "execution_count": 13,
   "metadata": {},
   "outputs": [
    {
     "data": {
      "text/plain": [
       "0.21212121212121213"
      ]
     },
     "execution_count": 13,
     "metadata": {},
     "output_type": "execute_result"
    }
   ],
   "source": [
    "(1/4 * 0.7) / A"
   ]
  },
  {
   "cell_type": "markdown",
   "metadata": {},
   "source": [
    "в). на факультете C"
   ]
  },
  {
   "cell_type": "code",
   "execution_count": 14,
   "metadata": {},
   "outputs": [
    {
     "data": {
      "text/plain": [
       "0.5454545454545455"
      ]
     },
     "execution_count": 14,
     "metadata": {},
     "output_type": "execute_result"
    }
   ],
   "source": [
    "(1/2 * 0.9) / A"
   ]
  },
  {
   "cell_type": "markdown",
   "metadata": {},
   "source": [
    "Устройство состоит из трех деталей. Для первой детали вероятность выйти из строя в первый месяц равна 0.1, для второй - 0.2, для третьей - 0.25. Какова вероятность того, что в первый месяц выйдут из строя: а). все детали б). только две детали в). хотя бы одна деталь г). от одной до двух деталей?"
   ]
  },
  {
   "cell_type": "code",
   "execution_count": 16,
   "metadata": {},
   "outputs": [
    {
     "name": "stdout",
     "output_type": "stream",
     "text": [
      "а) Вероятность, что все детали выйдут из строя: 0.0050\n",
      "б) Вероятность, что только две детали выйдут из строя: 0.0800\n",
      "в) Вероятность, что хотя бы одна деталь выйдет из строя: 0.4600\n",
      "г) Вероятность, что выйдет из строя от одной до двух деталей: 0.4550\n"
     ]
    }
   ],
   "source": [
    "# Вероятности выхода из строя для каждой детали\n",
    "p1 = 0.1\n",
    "p2 = 0.2\n",
    "p3 = 0.25\n",
    "\n",
    "# a) Вероятность, что все детали выйдут из строя\n",
    "prob_all = p1 * p2 * p3\n",
    "\n",
    "# б) Вероятность, что только две детали выйдут из строя\n",
    "prob_only_two = p1 * p2 * (1 - p3) + p1 * (1 - p2) * p3 + (1 - p1) * p2 * p3\n",
    "\n",
    "# в) Вероятность, что хотя бы одна деталь выйдет из строя\n",
    "prob_at_least_one = 1 - (1 - p1) * (1 - p2) * (1 - p3)\n",
    "\n",
    "# г) Вероятность, что выйдет из строя от одной до двух деталей\n",
    "prob_one_to_two = p1 * (1 - p2) * (1 - p3) + (1 - p1) * p2 * (1 - p3) + (1 - p1) * (1 - p2) * p3 + prob_only_two\n",
    "\n",
    "# Вывод результатов\n",
    "print(f\"а) Вероятность, что все детали выйдут из строя: {prob_all:.4f}\")\n",
    "print(f\"б) Вероятность, что только две детали выйдут из строя: {prob_only_two:.4f}\")\n",
    "print(f\"в) Вероятность, что хотя бы одна деталь выйдет из строя: {prob_at_least_one:.4f}\")\n",
    "print(f\"г) Вероятность, что выйдет из строя от одной до двух деталей: {prob_one_to_two:.4f}\")\n"
   ]
  },
  {
   "cell_type": "code",
   "execution_count": null,
   "metadata": {},
   "outputs": [],
   "source": []
  }
 ],
 "metadata": {
  "kernelspec": {
   "display_name": "Python 3",
   "language": "python",
   "name": "python3"
  },
  "language_info": {
   "codemirror_mode": {
    "name": "ipython",
    "version": 3
   },
   "file_extension": ".py",
   "mimetype": "text/x-python",
   "name": "python",
   "nbconvert_exporter": "python",
   "pygments_lexer": "ipython3",
   "version": "3.10.11"
  }
 },
 "nbformat": 4,
 "nbformat_minor": 2
}
