{
 "cells": [
  {
   "cell_type": "markdown",
   "metadata": {},
   "source": [
    "Даны значения величины заработной платы заемщиков банка (zp) и значения их поведенческого кредитного скоринга (ks): zp = [35, 45, 190, 200, 40, 70, 54, 150, 120, 110], ks = [401, 574, 874, 919, 459, 739, 653, 902, 746, 832]. Используя математические операции, посчитать коэффициенты линейной регрессии, приняв за X заработную плату (то есть, zp - признак), а за y - значения скорингового балла (то есть, ks - целевая переменная). Произвести расчет как с использованием intercept, так и без."
   ]
  },
  {
   "cell_type": "code",
   "execution_count": 1,
   "metadata": {},
   "outputs": [
    {
     "name": "stdout",
     "output_type": "stream",
     "text": [
      "Коэффициенты линейной регрессии без intercept: [5.88982042]\n",
      "Коэффициенты линейной регрессии с intercept: [444.17735732   2.62053888]\n",
      "Коэффициенты линейной регрессии с intercept: [444.17735732   2.62053888]\n"
     ]
    }
   ],
   "source": [
    "#intercept\n",
    "import numpy as np\n",
    "\n",
    "zp = np.array([35, 45, 190, 200, 40, 70, 54, 150, 120, 110])\n",
    "ks = np.array([401, 574, 874, 919, 459, 739, 653, 902, 746, 832])\n",
    "\n",
    "X = zp.reshape(-1, 1)\n",
    "\n",
    "beta_without_intercept = np.linalg.inv(X.T @ X) @ X.T @ ks\n",
    "\n",
    "print(\"Коэффициенты линейной регрессии без intercept:\", beta_without_intercept)\n",
    "\n",
    "X_with_intercept = np.c_[np.ones(X.shape[0]), X]\n",
    "beta_with_intercept = np.linalg.inv(X_with_intercept.T @ X_with_intercept) @ X_with_intercept.T @ ks\n",
    "\n",
    "print(\"Коэффициенты линейной регрессии с intercept:\", beta_with_intercept)\n",
    "\n",
    "# без intercept\n",
    "X_with_intercept = np.c_[np.ones(X.shape[0]), X]\n",
    "beta_with_intercept = np.linalg.inv(X_with_intercept.T @ X_with_intercept) @ X_with_intercept.T @ ks\n",
    "\n",
    "print(\"Коэффициенты линейной регрессии с intercept:\", beta_with_intercept)"
   ]
  },
  {
   "cell_type": "markdown",
   "metadata": {},
   "source": [
    "Посчитать коэффициент линейной регрессии при заработной плате (zp), используя градиентный спуск (без intercept)."
   ]
  },
  {
   "cell_type": "code",
   "execution_count": null,
   "metadata": {},
   "outputs": [],
   "source": [
    "import numpy as np\n",
    "\n",
    "zp = np.array([35, 45, 190, 200, 40, 70, 54, 150, 120, 110])\n",
    "ks = np.array([401, 574, 874, 919, 459, 739, 653, 902, 746, 832])\n",
    "\n",
    "X = zp.reshape(-1, 1)\n",
    "\n",
    "X_with_intercept = np.c_[np.ones(X.shape[0]), X]\n",
    "\n",
    "alpha = 1e-6\n",
    "n_iterations = 10000\n",
    "\n",
    "beta_with_intercept = np.zeros(X_with_intercept.shape[1])\n",
    "\n",
    "for _ in range(n_iterations):\n",
    "    predictions = X_with_intercept @ beta_with_intercept\n",
    "    errors = predictions - ks\n",
    "    gradient = 2 * X_with_intercept.T @ errors / len(ks)\n",
    "    beta_with_intercept -= alpha * gradient\n",
    "\n",
    "beta_without_intercept = beta_with_intercept[1:]\n",
    "\n",
    "print(\"Коэффициент линейной регрессии при заработной плате (градиентный спуск):\", beta_without_intercept)\n"
   ]
  },
  {
   "cell_type": "markdown",
   "metadata": {},
   "source": [
    "Произвести вычисления как в пункте 2, но с вычислением intercept. Учесть, что изменение коэффициентов должно производиться на каждом шаге одновременно (то есть изменение одного коэффициента не должно влиять на изменение другого во время одной итерации)."
   ]
  },
  {
   "cell_type": "code",
   "execution_count": null,
   "metadata": {},
   "outputs": [],
   "source": [
    "import numpy as np\n",
    "\n",
    "zp = np.array([35, 45, 190, 200, 40, 70, 54, 150, 120, 110])\n",
    "ks = np.array([401, 574, 874, 919, 459, 739, 653, 902, 746, 832])\n",
    "\n",
    "X_with_intercept = np.c_[np.ones(zp.shape[0]), zp]\n",
    "\n",
    "alpha = 1e-6\n",
    "n_iterations = 10000\n",
    "\n",
    "beta_with_intercept = np.zeros(X_with_intercept.shape[1])\n",
    "\n",
    "for _ in range(n_iterations):\n",
    "    predictions = X_with_intercept @ beta_with_intercept\n",
    "    errors = predictions - ks\n",
    "    gradient = 2 * X_with_intercept.T @ errors / len(ks)\n",
    "    beta_with_intercept -= alpha * gradient\n",
    "\n",
    "beta_intercept = beta_with_intercept[0]\n",
    "beta_without_intercept = beta_with_intercept[1:]\n",
    "\n",
    "print(\"Коэффициент intercept линейной регрессии:\", beta_intercept)\n",
    "print(\"Коэффициент при заработной плате (градиентный спуск):\", beta_without_intercept)\n"
   ]
  },
  {
   "cell_type": "markdown",
   "metadata": {},
   "source": [
    "В последнем коде обновляем оба коэффициента одновременно на каждой итерации градиентного спуска."
   ]
  }
 ],
 "metadata": {
  "kernelspec": {
   "display_name": "Python 3",
   "language": "python",
   "name": "python3"
  },
  "language_info": {
   "codemirror_mode": {
    "name": "ipython",
    "version": 3
   },
   "file_extension": ".py",
   "mimetype": "text/x-python",
   "name": "python",
   "nbconvert_exporter": "python",
   "pygments_lexer": "ipython3",
   "version": "3.10.11"
  }
 },
 "nbformat": 4,
 "nbformat_minor": 2
}
