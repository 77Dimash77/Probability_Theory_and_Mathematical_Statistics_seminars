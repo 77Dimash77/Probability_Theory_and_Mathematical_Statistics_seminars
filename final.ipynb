{
 "cells": [
  {
   "cell_type": "markdown",
   "metadata": {},
   "source": [
    "Провести дисперсионный анализ для определения того, есть ли различия среднего роста среди взрослых футболистов, хоккеистов и штангистов. Даны значения роста в трех группах случайно выбранных спортсменов: Футболисты: 173, 175, 180, 178, 177, 185, 183, 182. Хоккеисты: 177, 179, 180, 188, 177, 172, 171, 184, 180. Штангисты: 172, 173, 169, 177, 166, 180, 178, 177, 172, 166, 170. Данная промежуточная аттестация оценивается по системе \"зачет\" / \"не зачет\". \"Зачет\" ставится, если Слушатель успешно выполнил задание. \"Незачет\" ставится, если Слушатель не выполнил задание. Критерии оценивания: 1 - Слушатель провел дисперсионный анализ для определения того, есть ли различия среднего роста среди взрослых футболистов, хоккеистов и штангистов."
   ]
  },
  {
   "cell_type": "code",
   "execution_count": 3,
   "metadata": {},
   "outputs": [
    {
     "name": "stdout",
     "output_type": "stream",
     "text": [
      "Отвергаем нулевую гипотезу. Существуют различия между средним ростом спортсменов.\n"
     ]
    }
   ],
   "source": [
    "footballers = [173, 175, 180, 178, 177, 185, 183, 182]\n",
    "hockey_players = [177, 179, 180, 188, 177, 172, 171, 184, 180]\n",
    "weightlifters = [172, 173, 169, 177, 166, 180, 178, 177, 172, 166, 170]\n",
    "\n",
    "mean_footballers = sum(footballers) / len(footballers)\n",
    "mean_hockey_players = sum(hockey_players) / len(hockey_players)\n",
    "mean_weightlifters = sum(weightlifters) / len(weightlifters)\n",
    "\n",
    "overall_mean = (sum(footballers) + sum(hockey_players) + sum(weightlifters)) / \\\n",
    "               (len(footballers) + len(hockey_players) + len(weightlifters))\n",
    "\n",
    "ss_between = len(footballers) * (mean_footballers - overall_mean)**2 + \\\n",
    "             len(hockey_players) * (mean_hockey_players - overall_mean)**2 + \\\n",
    "             len(weightlifters) * (mean_weightlifters - overall_mean)**2\n",
    "\n",
    "df_between = 2\n",
    "\n",
    "df_within = len(footballers) + len(hockey_players) + len(weightlifters) - 3\n",
    "\n",
    "ms_between = ss_between / df_between\n",
    "ms_within = (sum((x - mean_footballers)**2 for x in footballers) +\n",
    "             sum((x - mean_hockey_players)**2 for x in hockey_players) +\n",
    "             sum((x - mean_weightlifters)**2 for x in weightlifters)) / df_within\n",
    "\n",
    "# Расчет статистики F\n",
    "f_statistic = ms_between / ms_within\n",
    "\n",
    "alpha = 0.05\n",
    "\n",
    "# Критическое значение из таблицы F-распределения\n",
    "critical_value = 3.68  # Пример для df_between=2, df_within=24, alpha=0.05\n",
    "\n",
    "if f_statistic > critical_value:\n",
    "    print(\"Отвергаем нулевую гипотезу. Существуют различия между средним ростом спортсменов.\")\n",
    "else:\n",
    "    print(\"Не отвергаем нулевую гипотезу. Различия между средним ростом спортсменов не выявлены.\")\n"
   ]
  }
 ],
 "metadata": {
  "kernelspec": {
   "display_name": "Python 3",
   "language": "python",
   "name": "python3"
  },
  "language_info": {
   "codemirror_mode": {
    "name": "ipython",
    "version": 3
   },
   "file_extension": ".py",
   "mimetype": "text/x-python",
   "name": "python",
   "nbconvert_exporter": "python",
   "pygments_lexer": "ipython3",
   "version": "3.10.11"
  }
 },
 "nbformat": 4,
 "nbformat_minor": 2
}
