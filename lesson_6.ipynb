{
 "cells": [
  {
   "cell_type": "code",
   "execution_count": 1,
   "metadata": {},
   "outputs": [
    {
     "name": "stdout",
     "output_type": "stream",
     "text": [
      "Доверительный интервал для математического ожидания (Задача 1): (78.0306894301508, 81.9693105698492)\n",
      "Доверительный интервал для среднего значения величины X (Задача 2): (6.267515851415713, 6.912484148584288)\n",
      "Доверительный интервал для разности среднего роста родителей и детей (Задача 3): (-10.068418034506857, 6.268418034506846)\n"
     ]
    }
   ],
   "source": [
    "import numpy as np\n",
    "from scipy.stats import t\n",
    "\n",
    "# Задача 1\n",
    "mean = 80\n",
    "std_dev = 16\n",
    "n = 256\n",
    "confidence_level = 0.95\n",
    "\n",
    "\n",
    "margin_of_error = t.ppf((1 + confidence_level) / 2, df=n-1) * (std_dev / np.sqrt(n))\n",
    "confidence_interval = (mean - margin_of_error, mean + margin_of_error)\n",
    "print(\"Доверительный интервал для математического ожидания (Задача 1):\", confidence_interval)\n",
    "\n",
    "# Задача 2\n",
    "data_X = np.array([6.9, 6.1, 6.2, 6.8, 7.5, 6.3, 6.4, 6.9, 6.7, 6.1])\n",
    "mean_X = np.mean(data_X)\n",
    "std_dev_X = np.std(data_X, ddof=1)\n",
    "n_X = len(data_X)\n",
    "confidence_level_X = 0.95\n",
    "\n",
    "\n",
    "margin_of_error_X = t.ppf((1 + confidence_level_X) / 2, df=n_X-1) * (std_dev_X / np.sqrt(n_X))\n",
    "confidence_interval_X = (mean_X - margin_of_error_X, mean_X + margin_of_error_X)\n",
    "print(\"Доверительный интервал для среднего значения величины X (Задача 2):\", confidence_interval_X)\n",
    "\n",
    "# Задача 3\n",
    "data_D = np.array([175, 167, 154, 174, 178, 148, 160, 167, 169, 170])\n",
    "data_M = np.array([178, 165, 165, 173, 168, 155, 160, 164, 178, 175])\n",
    "mean_D = np.mean(data_D)\n",
    "mean_M = np.mean(data_M)\n",
    "std_dev_D = np.std(data_D, ddof=1)\n",
    "std_dev_M = np.std(data_M, ddof=1)\n",
    "n_D = len(data_D)\n",
    "n_M = len(data_M)\n",
    "confidence_level_DM = 0.95\n",
    "\n",
    "\n",
    "SE_DM = np.sqrt((std_dev_D**2 / n_D) + (std_dev_M**2 / n_M))\n",
    "margin_of_error_DM = t.ppf((1 + confidence_level_DM) / 2, df=n_D + n_M - 2) * SE_DM\n",
    "confidence_interval_DM = (mean_D - mean_M - margin_of_error_DM, mean_D - mean_M + margin_of_error_DM)\n",
    "print(\"Доверительный интервал для разности среднего роста родителей и детей (Задача 3):\", confidence_interval_DM)\n"
   ]
  }
 ],
 "metadata": {
  "kernelspec": {
   "display_name": "Python 3",
   "language": "python",
   "name": "python3"
  },
  "language_info": {
   "codemirror_mode": {
    "name": "ipython",
    "version": 3
   },
   "file_extension": ".py",
   "mimetype": "text/x-python",
   "name": "python",
   "nbconvert_exporter": "python",
   "pygments_lexer": "ipython3",
   "version": "3.10.11"
  }
 },
 "nbformat": 4,
 "nbformat_minor": 2
}
