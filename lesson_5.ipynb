{
 "cells": [
  {
   "cell_type": "markdown",
   "metadata": {},
   "source": [
    "Задание №1"
   ]
  },
  {
   "cell_type": "markdown",
   "metadata": {},
   "source": [
    "Z-критерий (Z-тест):\n",
    "\n",
    "Когда использовать: \n",
    "Z-критерий применяется, когда параметры совокупности известны или когда размер выборки большой (обычно n > 30).\n",
    "\n",
    "Ситуации использования:\n",
    "Когда известно стандартное отклонение совокупности.\n",
    "Когда размер выборки большой, и ЦПТ (Центральная предельная теорема) обеспечивает нормальное распределение среднего значения."
   ]
  },
  {
   "cell_type": "code",
   "execution_count": 2,
   "metadata": {},
   "outputs": [
    {
     "name": "stdout",
     "output_type": "stream",
     "text": [
      "t-статистика: -1.1161094237126785\n",
      "p-значение: -0.23221884742535703\n",
      "Отвергаем нулевую гипотезу: среднее значение не равно предполагаемому\n"
     ]
    }
   ],
   "source": [
    "import math\n",
    "\n",
    "sample_data = [22, 25, 18, 30, 28, 21, 24, 20, 23, 26]\n",
    "population_mean = 25\n",
    "sample_mean = sum(sample_data) / len(sample_data)\n",
    "sample_std = math.sqrt(sum((x - sample_mean) ** 2 for x in sample_data) / (len(sample_data) - 1))\n",
    "t_statistic = (sample_mean - population_mean) / (sample_std / math.sqrt(len(sample_data)))\n",
    "degrees_of_freedom = len(sample_data) - 1\n",
    "p_value = 2 * (1 - abs(t_statistic))\n",
    "\n",
    "print(f\"t-статистика: {t_statistic}\")\n",
    "print(f\"p-значение: {p_value}\")\n",
    "\n",
    "alpha = 0.05\n",
    "if p_value < alpha:\n",
    "    print(\"Отвергаем нулевую гипотезу: среднее значение не равно предполагаемому\")\n",
    "else:\n",
    "    print(\"Не удалось отвергнуть нулевую гипотезу: среднее значение равно предполагаемому\")\n"
   ]
  },
  {
   "cell_type": "markdown",
   "metadata": {},
   "source": [
    "Задачи 2,3 решать вручную"
   ]
  },
  {
   "cell_type": "markdown",
   "metadata": {},
   "source": [
    "Задача №2\n",
    "Проведите тест гипотезы. Утверждается, что шарики для подшипников, изготовленные автоматическим станком, имеют средний диаметр 17 мм. Используя односторонний критерий с α=0,05, проверить эту гипотезу, если в выборке из n=100 шариков средний диаметр оказался равным 17.5 мм, а дисперсия известна и равна 4 кв. мм."
   ]
  },
  {
   "cell_type": "code",
   "execution_count": 5,
   "metadata": {},
   "outputs": [
    {
     "name": "stdout",
     "output_type": "stream",
     "text": [
      "Отвергаем нулевую гипотезу: средний диаметр не равен предполагаемому (17 мм)\n"
     ]
    }
   ],
   "source": [
    "import math\n",
    "\n",
    "sample_mean = 17.5 \n",
    "population_mean = 17 \n",
    "sample_size = 100 \n",
    "sample_variance = 4 \n",
    "\n",
    "sample_std = math.sqrt(sample_variance)\n",
    "t_statistic = (sample_mean - population_mean) / (sample_std / math.sqrt(sample_size))\n",
    "p_value = 1 - 0.5 * (1 + math.erf(t_statistic / math.sqrt(2)))\n",
    "alpha = 0.05\n",
    "if p_value < alpha:\n",
    "    print(\"Отвергаем нулевую гипотезу: средний диаметр не равен предполагаемому (17 мм)\")\n",
    "else:\n",
    "    print(\"Не удалось отвергнуть нулевую гипотезу: средний диаметр равен предполагаемому (17 мм)\")\n"
   ]
  },
  {
   "cell_type": "markdown",
   "metadata": {},
   "source": [
    "Задача №3\n",
    "Проведите тест гипотезы. Продавец утверждает, что средний вес пачки печенья составляет 200 г. Из партии извлечена выборка из 10 пачек. Вес каждой пачки составляет: 202, 203, 199, 197, 195, 201, 200, 204, 194, 190. Известно, что их веса распределены нормально. Верно ли утверждение продавца, если учитывать, что доверительная вероятность равна 99%? (Провести двусторонний тест.)"
   ]
  },
  {
   "cell_type": "code",
   "execution_count": 6,
   "metadata": {},
   "outputs": [
    {
     "name": "stdout",
     "output_type": "stream",
     "text": [
      "Не удалось отвергнуть нулевую гипотезу: средний вес пачки равен предполагаемому (200 г)\n"
     ]
    }
   ],
   "source": [
    "import math\n",
    "\n",
    "sample_weights = [202, 203, 199, 197, 195, 201, 200, 204, 194, 190]\n",
    "population_mean = 200  \n",
    "sample_size = len(sample_weights)\n",
    "degrees_of_freedom = sample_size - 1\n",
    "\n",
    "\n",
    "sample_mean = sum(sample_weights) / sample_size\n",
    "sample_std = math.sqrt(sum((x - sample_mean) ** 2 for x in sample_weights) / degrees_of_freedom)\n",
    "t_statistic = (sample_mean - population_mean) / (sample_std / math.sqrt(sample_size))\n",
    "p_value = 2 * (1 - 0.5 * (1 + math.erf(abs(t_statistic) / math.sqrt(2))))\n",
    "alpha = 0.01\n",
    "if p_value < alpha:\n",
    "    print(\"Отвергаем нулевую гипотезу: средний вес пачки не равен предполагаемому (200 г)\")\n",
    "else:\n",
    "    print(\"Не удалось отвергнуть нулевую гипотезу: средний вес пачки равен предполагаемому (200 г)\")\n"
   ]
  },
  {
   "cell_type": "markdown",
   "metadata": {},
   "source": [
    "Задача №4\n",
    "Задачу 4 решать с помощью функции.\n",
    "4. Есть ли статистически значимые различия в росте дочерей?\n",
    "Рост матерей 172, 177, 158, 170, 178,175, 164, 160, 169, 165\n",
    "Рост взрослых дочерей: 173, 175, 162, 174, 175, 168, 155, 170, 160"
   ]
  },
  {
   "cell_type": "code",
   "execution_count": 7,
   "metadata": {},
   "outputs": [
    {
     "name": "stdout",
     "output_type": "stream",
     "text": [
      "Не удалось отвергнуть нулевую гипотезу: нет статистически значимых различий в росте дочерей\n"
     ]
    }
   ],
   "source": [
    "\n",
    "height_mothers = [172, 177, 158, 170, 178, 175, 164, 160, 169, 165]\n",
    "height_daughters = [173, 175, 162, 174, 175, 168, 155, 170, 160]\n",
    "\n",
    "def mean(data):\n",
    "    return sum(data) / len(data)\n",
    "\n",
    "def std_dev(data):\n",
    "    m = mean(data)\n",
    "    return (sum([(x - m) ** 2 for x in data]) / len(data)) ** 0.5\n",
    "\n",
    "def t_statistic(data1, data2):\n",
    "    m1, m2 = mean(data1), mean(data2)\n",
    "    s1, s2 = std_dev(data1), std_dev(data2)\n",
    "    n1, n2 = len(data1), len(data2)\n",
    "    return abs((m1 - m2) / ((s1**2 / n1) + (s2**2 / n2))**0.5)\n",
    "\n",
    "t_stat = t_statistic(height_mothers, height_daughters)\n",
    "\n",
    "critical_value = 1.7408\n",
    "\n",
    "if t_stat > critical_value:\n",
    "    print(\"Отвергаем нулевую гипотезу: есть статистически значимые различия в росте дочерей\")\n",
    "else:\n",
    "    print(\"Не удалось отвергнуть нулевую гипотезу: нет статистически значимых различий в росте дочерей\")\n"
   ]
  }
 ],
 "metadata": {
  "kernelspec": {
   "display_name": "Python 3",
   "language": "python",
   "name": "python3"
  },
  "language_info": {
   "codemirror_mode": {
    "name": "ipython",
    "version": 3
   },
   "file_extension": ".py",
   "mimetype": "text/x-python",
   "name": "python",
   "nbconvert_exporter": "python",
   "pygments_lexer": "ipython3",
   "version": "3.10.11"
  }
 },
 "nbformat": 4,
 "nbformat_minor": 2
}
