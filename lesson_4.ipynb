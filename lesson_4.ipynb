{
 "cells": [
  {
   "cell_type": "markdown",
   "metadata": {},
   "source": [
    "1. Случайная непрерывная величина A имеет равномерное распределение на промежутке (200, 800].\n",
    "Найдите ее среднее значение и дисперсию."
   ]
  },
  {
   "cell_type": "code",
   "execution_count": 9,
   "metadata": {},
   "outputs": [
    {
     "name": "stdout",
     "output_type": "stream",
     "text": [
      "Среднее значение (математическое ожидание) A: 500.0\n",
      "Дисперсия A: 30000.0\n"
     ]
    }
   ],
   "source": [
    "a = 200\n",
    "b = 800\n",
    "mean_A = (a + b) / 2\n",
    "variance_A = (b - a)**2 / 12\n",
    "\n",
    "print(f\"Среднее значение (математическое ожидание) A: {mean_A}\")\n",
    "print(f\"Дисперсия A: {variance_A}\")"
   ]
  },
  {
   "cell_type": "markdown",
   "metadata": {},
   "source": [
    "2. О случайной непрерывной равномерно распределенной величине B известно, что ее дисперсия равна 0.2.\n",
    "Можно ли найти правую границу величины B и ее среднее значение зная, что левая граница равна 0.5?\n",
    "Если да, найдите ее."
   ]
  },
  {
   "cell_type": "code",
   "execution_count": 10,
   "metadata": {},
   "outputs": [
    {
     "name": "stdout",
     "output_type": "stream",
     "text": [
      "Правая граница B: 2.049193338482967\n",
      "Среднее значение (математическое ожидание) B: 1.2745966692414834\n"
     ]
    }
   ],
   "source": [
    "import math\n",
    "\n",
    "a = 0.5\n",
    "variance_B = 0.2\n",
    "b = math.sqrt(12 * variance_B) + a\n",
    "mean_B = (a + b) / 2\n",
    "\n",
    "\n",
    "print(f\"Правая граница B: {b}\")\n",
    "print(f\"Среднее значение (математическое ожидание) B: {mean_B}\")"
   ]
  },
  {
   "cell_type": "markdown",
   "metadata": {},
   "source": [
    "3. Непрерывная случайная величина X распределена нормально и задана плотностью распределения f(x) = (1 / (4 * sqrt(2pi))) * exp((-(x+2)**2) / 32)\n",
    "Найдите:\n",
    "а). M(X)\n",
    "б). D(X)\n",
    "в). std(X) (среднее квадратичное отклонение)"
   ]
  },
  {
   "cell_type": "code",
   "execution_count": 11,
   "metadata": {},
   "outputs": [
    {
     "name": "stdout",
     "output_type": "stream",
     "text": [
      "а) M(X) = -2\n",
      "б) D(X) = 32\n",
      "в) std(X) = 5.656854249492381\n"
     ]
    }
   ],
   "source": [
    "import math\n",
    "\n",
    "mu = -2\n",
    "sigma_squared = 32\n",
    "std_X = math.sqrt(sigma_squared)\n",
    "\n",
    "print(f\"а) M(X) = {mu}\")\n",
    "print(f\"б) D(X) = {sigma_squared}\")\n",
    "print(f\"в) std(X) = {std_X}\")\n"
   ]
  },
  {
   "cell_type": "markdown",
   "metadata": {},
   "source": [
    "4. Рост взрослого населения города X имеет нормальное распределение.\n",
    "Причем, средний рост равен 174 см, а среднее квадратичное отклонение равно 8 см.\n",
    "\n",
    "Какова вероятность того, что случайным образом выбранный взрослый человек имеет рост:\n",
    "а). больше 182 см\n",
    "б). больше 190 см\n",
    "в). от 166 см до 190 см\n",
    "г). от 166 см до 182 см\n",
    "д). от 158 см до 190 см\n",
    "е). не выше 150 см или не ниже 190 см\n",
    "ё). не выше 150 см или не ниже 198 см\n",
    "ж). ниже 166 см."
   ]
  },
  {
   "cell_type": "code",
   "execution_count": 12,
   "metadata": {},
   "outputs": [
    {
     "name": "stdout",
     "output_type": "stream",
     "text": [
      "P(X > 182) = 0.1587\n",
      "P(X > 190) = 0.0228\n",
      "P(166 < X < 190) = 0.8186\n",
      "P(166 < X < 182) = 0.6827\n",
      "P(158 < X < 190) = 0.9545\n",
      "P(150 < X < 190) = 0.9759\n",
      "P(150 < X < 198) = 0.9973\n",
      "P(X > 166) = 0.8413\n"
     ]
    }
   ],
   "source": [
    "from scipy.stats import norm\n",
    "\n",
    "mu = 174\n",
    "sigma = 8\n",
    "values = [182, 190, (166, 190), (166, 182), (158, 190), (150, 190), (150, 198), 166]\n",
    "for val in values:\n",
    "    if isinstance(val, tuple):\n",
    "        z1 = (val[0] - mu) / sigma\n",
    "        z2 = (val[1] - mu) / sigma\n",
    "        prob = norm.cdf(z2) - norm.cdf(z1)\n",
    "        print(f'P({val[0]} < X < {val[1]}) = {prob:.4f}')\n",
    "    else:\n",
    "        z = (val - mu) / sigma\n",
    "        prob = norm.cdf(z)\n",
    "        print(f'P(X > {val}) = {1 - prob:.4f}')\n"
   ]
  },
  {
   "cell_type": "markdown",
   "metadata": {},
   "source": [
    "5. На сколько сигм (средних квадратичных отклонений) отклоняется рост человека, равный 190 см, от математического ожидания роста в популяции, в которой M(X) = 178 см и D(X) = 25 кв.см?"
   ]
  },
  {
   "cell_type": "code",
   "execution_count": 13,
   "metadata": {},
   "outputs": [
    {
     "name": "stdout",
     "output_type": "stream",
     "text": [
      "Значение Z: 2.4\n"
     ]
    }
   ],
   "source": [
    "X = 190  \n",
    "mu = 178 \n",
    "sigma = 5 \n",
    "Z = (X - mu) / sigma\n",
    "\n",
    "print(f\"Значение Z: {Z}\")\n"
   ]
  }
 ],
 "metadata": {
  "kernelspec": {
   "display_name": "Python 3",
   "language": "python",
   "name": "python3"
  },
  "language_info": {
   "codemirror_mode": {
    "name": "ipython",
    "version": 3
   },
   "file_extension": ".py",
   "mimetype": "text/x-python",
   "name": "python",
   "nbconvert_exporter": "python",
   "pygments_lexer": "ipython3",
   "version": "3.10.11"
  }
 },
 "nbformat": 4,
 "nbformat_minor": 2
}
