{
 "cells": [
  {
   "cell_type": "markdown",
   "metadata": {},
   "source": [
    "1. Даны значения величины заработной платы заемщиков банка (zp) и значения их поведенческого кредитного скоринга (ks): zp = [35, 45, 190, 200, 40, 70, 54, 150, 120, 110], ks = [401, 574, 874, 919, 459, 739, 653, 902, 746, 832]. Найдите ковариацию этих двух величин с помощью элементарных действий, а затем с помощью функции cov из numpy Полученные значения должны быть равны. Найдите коэффициент корреляции Пирсона с помощью ковариации и среднеквадратичных отклонений двух признаков, а затем с использованием функций из библиотек numpy и pandas."
   ]
  },
  {
   "cell_type": "code",
   "execution_count": 1,
   "metadata": {},
   "outputs": [
    {
     "name": "stdout",
     "output_type": "stream",
     "text": [
      "a. Ковариация (элементарные действия): 10175.37777777778\n",
      "b. Ковариация (numpy): 10175.377777777776\n",
      "c. Коэффициент корреляции Пирсона: 0.8874900920739164\n",
      "\n",
      "\n"
     ]
    }
   ],
   "source": [
    "import numpy as np\n",
    "zp = np.array([35, 45, 190, 200, 40, 70, 54, 150, 120, 110])\n",
    "ks = np.array([401, 574, 874, 919, 459, 739, 653, 902, 746, 832])\n",
    "\n",
    "mean_zp = np.mean(zp)\n",
    "mean_ks = np.mean(ks)\n",
    "cov_xy_manual = np.sum((zp - mean_zp) * (ks - mean_ks)) / (len(zp) - 1)\n",
    "\n",
    "cov_matrix = np.cov(zp, ks, ddof=1)\n",
    "cov_xy_numpy = cov_matrix[0, 1]\n",
    "\n",
    "std_dev_zp = np.std(zp, ddof=1)\n",
    "std_dev_ks = np.std(ks, ddof=1)\n",
    "correlation_coefficient = cov_xy_manual / (std_dev_zp * std_dev_ks)\n",
    "\n",
    "print(\"a. Ковариация (элементарные действия):\", cov_xy_manual)\n",
    "print(\"b. Ковариация (numpy):\", cov_xy_numpy)\n",
    "print(\"c. Коэффициент корреляции Пирсона:\", correlation_coefficient)\n",
    "print(\"\\n\")"
   ]
  },
  {
   "cell_type": "markdown",
   "metadata": {},
   "source": [
    "Измерены значения IQ выборки студентов, обучающихся в местных технических вузах: 131, 125, 115, 122, 131, 115, 107, 99, 125, 111. Известно, что в генеральной совокупности IQ распределен нормально. Найдите доверительный интервал для математического ожидания с надежностью 0.95."
   ]
  },
  {
   "cell_type": "code",
   "execution_count": 2,
   "metadata": {},
   "outputs": [
    {
     "name": "stdout",
     "output_type": "stream",
     "text": [
      "Доверительный интервал для математического ожидания IQ: (124.63627267213083, 111.56372732786916)\n",
      "\n",
      "\n"
     ]
    }
   ],
   "source": [
    "iq_values = np.array([131, 125, 115, 122, 131, 115, 107, 99, 125, 111])\n",
    "confidence_level = 0.95\n",
    "n_iq = len(iq_values)\n",
    "mean_iq = np.mean(iq_values)\n",
    "std_dev_iq = np.std(iq_values, ddof=1)\n",
    "\n",
    "Z_iq = -1.96  # Значение Z для надежности 0.975 (для двустороннего интервала)\n",
    "margin_of_error_iq = Z_iq * (std_dev_iq / np.sqrt(n_iq))\n",
    "confidence_interval_iq = (mean_iq - margin_of_error_iq, mean_iq + margin_of_error_iq)\n",
    "\n",
    "print(\"Доверительный интервал для математического ожидания IQ:\", confidence_interval_iq)\n",
    "print(\"\\n\")"
   ]
  },
  {
   "cell_type": "markdown",
   "metadata": {},
   "source": [
    "Известно, что рост футболистов в сборной распределен нормально с дисперсией генеральной совокупности, равной 25 кв.см. Объем выборки равен 27, среднее выборочное составляет 174.2. Найдите доверительный интервал для математического ожидания с надежностью 0.95."
   ]
  },
  {
   "cell_type": "code",
   "execution_count": 3,
   "metadata": {},
   "outputs": [
    {
     "name": "stdout",
     "output_type": "stream",
     "text": [
      "Доверительный интервал для математического ожидания роста футболистов: (176.08601087935276, 172.31398912064722)\n"
     ]
    }
   ],
   "source": [
    "population_variance = 25\n",
    "sample_mean = 174.2\n",
    "sample_size = 27\n",
    "\n",
    "Z_population = -1.96  # Значение Z для надежности 0.975 (для двустороннего интервала)\n",
    "margin_of_error_population = Z_population * (np.sqrt(population_variance) / np.sqrt(sample_size))\n",
    "confidence_interval_population = (sample_mean - margin_of_error_population, sample_mean + margin_of_error_population)\n",
    "\n",
    "print(\"Доверительный интервал для математического ожидания роста футболистов:\", confidence_interval_population)"
   ]
  }
 ],
 "metadata": {
  "kernelspec": {
   "display_name": "Python 3",
   "language": "python",
   "name": "python3"
  },
  "language_info": {
   "codemirror_mode": {
    "name": "ipython",
    "version": 3
   },
   "file_extension": ".py",
   "mimetype": "text/x-python",
   "name": "python",
   "nbconvert_exporter": "python",
   "pygments_lexer": "ipython3",
   "version": "3.10.11"
  }
 },
 "nbformat": 4,
 "nbformat_minor": 2
}
